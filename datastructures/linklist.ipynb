{
 "cells": [
  {
   "cell_type": "markdown",
   "metadata": {},
   "source": []
  },
  {
   "cell_type": "markdown",
   "metadata": {},
   "source": [
    "RAM is where Python keeps all the objects, variables, <br/>\n",
    "and data structures that are actively being used by a <br/>\n",
    "running program.\n",
    "\n",
    "when any object is created memory is allocated to it in RAM,  <br/>\n",
    "there are two types of memory allocation: <br/>\n",
    "- Stack: Memory is allocated automatically as functions are called/return.\n",
    "- Heap: Memory is allocated on demand by the program.\n",
    "\n",
    "Structure of RAM :  <br/>\n",
    "Each location has a unique address, typically represented <br/>\n",
    "as a hexadecimal number. By convention, lower addresses are <br/>\n",
    "closer to zero. Lower addresses are typically at the \"bottom\" of memory.<br/>\n",
    "Higher addresses are at the \"top\" of memory.\n"
   ]
  },
  {
   "cell_type": "code",
   "execution_count": 3,
   "metadata": {},
   "outputs": [],
   "source": [
    "# RAM\n",
    "# +---------------------------+\n",
    "# |  Higher Addresses         |  e.g., 0xFFFFFFFF\n",
    "# |  (larger numbers)         |\n",
    "# |                           |\n",
    "# |                           |\n",
    "# |                           |\n",
    "# |                           |\n",
    "# |                           |\n",
    "# |  Lower Addresses          |  e.g., 0x00000000\n",
    "# |  (smaller numbers)        |\n",
    "# +---------------------------+\n",
    "\n",
    "# RAM\n",
    "# +---------------------------+\n",
    "# |         Stack             |  Higher addresses\n",
    "# |  +---------------------+  |\n",
    "# |  | Local variables     |  |\n",
    "# |  +---------------------+  |\n",
    "# |                           |\n",
    "# |                           |\n",
    "# |         Heap              |\n",
    "# |  +---------------------+  |\n",
    "# |  |                     |  |\n",
    "# |  |    instance var     |  |\n",
    "# |  |                     |  |\n",
    "# |  +---------------------+  |  Lower addresses\n",
    "# +---------------------------+\n"
   ]
  },
  {
   "cell_type": "markdown",
   "metadata": {},
   "source": [
    "Program: <br/>\n",
    "\n",
    "- Instance variables : maintained in the memory allocated for the object (often in the heap).\n",
    "- Local variables : created and destroyed in the stack memory for each method call.\n",
    "\n",
    "instance variable is created when you type \"self.something\", <br/>\n",
    "so \"self\" aids in creation of instance variable but \"self\" <br/>\n",
    "itself is not an instance variable\n",
    "\n",
    "\n",
    "\n",
    "link list uses instance variables. <br/>\n",
    "\n",
    "instance variables (using self) maintain their values across function calls, while local variables are recreated each time. <br/>\n",
    "\n",
    "that means after each function call ends <br/>\n",
    "the local variables are destroyed, but the <br/>\n",
    "instance variables are not destroyed and <br/>\n",
    "their values are retained. <br/>\n",
    "\n",
    "\n",
    "Ideally this is how linklist looks, here  <br/>\n",
    "for simplicity we defined most basic form of linklist <br/>\n",
    "where we have value and next\n"
   ]
  },
  {
   "cell_type": "code",
   "execution_count": 2,
   "metadata": {},
   "outputs": [
    {
     "ename": "TypeError",
     "evalue": "node() missing 1 required positional argument: 'next'",
     "output_type": "error",
     "traceback": [
      "\u001b[1;31m---------------------------------------------------------------------------\u001b[0m",
      "\u001b[1;31mTypeError\u001b[0m                                 Traceback (most recent call last)",
      "Cell \u001b[1;32mIn[2], line 5\u001b[0m\n\u001b[0;32m      3\u001b[0m     \u001b[38;5;28mnext\u001b[39m \u001b[38;5;241m=\u001b[39m \u001b[38;5;28;01mNone\u001b[39;00m\n\u001b[0;32m      4\u001b[0m \u001b[38;5;66;03m# Creating head of the Linked list\u001b[39;00m\n\u001b[1;32m----> 5\u001b[0m head \u001b[38;5;241m=\u001b[39m node(\u001b[38;5;241m1\u001b[39m)\n",
      "\u001b[1;31mTypeError\u001b[0m: node() missing 1 required positional argument: 'next'"
     ]
    }
   ],
   "source": [
    "def node(value, next):  \n",
    "    value = value\n",
    "    next = None\n",
    "# Creating head of the Linked list\n",
    "head = node(1)"
   ]
  },
  {
   "cell_type": "markdown",
   "metadata": {},
   "source": [
    "Issues in this kind of declaration:\n",
    "\n",
    "1. We created linklist using just variables, so now \n",
    "their state does not persists after the function ends variables value is destroyed\n",
    "2. Operations like insertion, deletion, or traversal cannot be performed,\n",
    "as doing these operations need \"value\" to be persisted beyond the function call\n",
    "for us this \"value\" is destroyed after function call ends.\n",
    "\n",
    "The linked structure is maintained by the next references between nodes.\n",
    "If next were a local variable, the links between nodes would be lost as soon \n",
    "as the initialization method completed.\n",
    "\n",
    "To overome this we use instance variables, class and constructor like this\n",
    "\n"
   ]
  },
  {
   "cell_type": "code",
   "execution_count": 1,
   "metadata": {},
   "outputs": [
    {
     "name": "stdout",
     "output_type": "stream",
     "text": [
      "The value at head is 1\n"
     ]
    }
   ],
   "source": [
    "class Node:\n",
    "    def __init__(self, value):   # __init__ also called constructor is used for Object initialization\n",
    "        self.value = value\n",
    "        self.next = None\n",
    "# Creating head of the Linked list\n",
    "head = Node(1)\n",
    "print(\"The value at head is\", head.value)"
   ]
  },
  {
   "cell_type": "markdown",
   "metadata": {},
   "source": [
    "Here's a simplified visualization of how this object might be represented in RAM:"
   ]
  },
  {
   "cell_type": "code",
   "execution_count": null,
   "metadata": {},
   "outputs": [],
   "source": [
    "# Memory Address   |   Content\n",
    "# -----------------|-------------------\n",
    "# 0x1000           |   <Node object>\n",
    "# 0x1008           |   0x2000  (memory address where \"value\" is stored in RAM, not \"value\" itself)\n",
    "# 0x1010           |   None  \n",
    "# ...              |   ...\n",
    "# 0x2000           |   \"1\"  (int object)"
   ]
  },
  {
   "cell_type": "markdown",
   "metadata": {},
   "source": [
    "When you create an object, Python allocates RAM for that object and returns the memory address of it. Variables in Python don't directly contain the object's data; instead, they contain references (essentially memory addresses) to where the object is stored.\n"
   ]
  },
  {
   "cell_type": "markdown",
   "metadata": {},
   "source": [
    "# Insertion in linklist"
   ]
  },
  {
   "cell_type": "markdown",
   "metadata": {},
   "source": [
    "While doing any kind of operation in linklist.Always create a seperate constructur for link list.<br/>\n",
    "This gives flexibility for class linklist to perform operations on class node. so linklist will be a new class with its own constructor <br/>\n",
    "<br/>\n",
    "Note that head of the linklist points to entire node and not just value of a node"
   ]
  },
  {
   "cell_type": "code",
   "execution_count": 1,
   "metadata": {},
   "outputs": [
    {
     "name": "stdout",
     "output_type": "stream",
     "text": [
      "node value 1\n"
     ]
    }
   ],
   "source": [
    "class Node:\n",
    "    def __init__(self, value):   \n",
    "        self.value = value\n",
    "        self.next = None\n",
    "\n",
    "class linklist:\n",
    "    def __init__(self):\n",
    "        self.head=None\n",
    "    def insert(self, value):\n",
    "        #create first node\n",
    "        node = Node(value)\n",
    "\n",
    "        #point next of new node to head of link list\n",
    "        node.next = self.head\n",
    "\n",
    "        # point head to entire added new node\n",
    "        self.head = node\n",
    "\n",
    "\n",
    "# node = Node(1)\n",
    "# print(\"node value\", node.value)"
   ]
  },
  {
   "cell_type": "code",
   "execution_count": null,
   "metadata": {},
   "outputs": [],
   "source": []
  }
 ],
 "metadata": {
  "kernelspec": {
   "display_name": "base",
   "language": "python",
   "name": "python3"
  },
  "language_info": {
   "codemirror_mode": {
    "name": "ipython",
    "version": 3
   },
   "file_extension": ".py",
   "mimetype": "text/x-python",
   "name": "python",
   "nbconvert_exporter": "python",
   "pygments_lexer": "ipython3",
   "version": "3.11.5"
  }
 },
 "nbformat": 4,
 "nbformat_minor": 2
}
